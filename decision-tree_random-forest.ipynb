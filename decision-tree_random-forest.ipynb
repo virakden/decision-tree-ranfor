{
 "cells": [
  {
   "cell_type": "markdown",
   "id": "81f3ce9c",
   "metadata": {},
   "source": [
    "## Heart Disease Prediction using Decision Tree and Random Forest\n",
    "\n",
    "## Project: Final Project - Decision Tree\n",
    "Dataset: UCI Heart Disease (Cleveland) Dataset\n",
    "Author: [Virakden - Hikaru]\n",
    "Description:\n",
    "- This project implements a Decision Tree classifier to predict the\n",
    "- presence of heart disease using the classic UCI Cleveland dataset.\n",
    "- The workflow includes data loading, cleaning, exploratory analysis,\n",
    "- model training, evaluation, visualization, and comparison with Random Forest.\n",
    "- Extra tasks: try different split criteria and discuss feature importances."
   ]
  }
 ],
 "metadata": {
  "language_info": {
   "name": "python"
  }
 },
 "nbformat": 4,
 "nbformat_minor": 5
}
